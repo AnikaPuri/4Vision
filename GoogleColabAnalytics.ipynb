from google.colab import drive
drive.mount('/content/drive', force_remount=True)
import pandas as pd
df = pd.read_csv('/content/drive/My Drive/Colab Notebooks/Confusion')
print(df)
import csv
with open('/content/drive/My Drive/Colab Notebooks/Confusion') as csvfile: 
  readCSV = csv.reader(csvfile, delimiter = ',')

  for row in readCSV: 
    print(row[2])
import csv
import pandas as pd
import matplotlib.pyplot as plt 
import matplotlib

from matplotlib import animation
#from IPython.display import HTML
#from matplotlib.animations import FuncAnimation 
from IPython import display 
import numpy as np 

with open('/content/drive/My Drive/Colab Notebooks/Confusion') as csvfile: 
  readCSV = csv.reader(csvfile, delimiter = ',')
  
  time = []
  confusion = [] 
  engagement = []
  attention = [] 

#timeD Parsing 
  for row in readCSV: 
    if (row[1] == "x:0"): 
      continue
    timeD = (row[0])[20:22] + (row[0])[23:25] + (row[0])[26:28] + (row[0])[29:32]

#confusionD Parsing 
    firstA = 0
    secondA = 0 
    count = 0
    ap = False 
    for char in row[1]:
      if (char == '"'): 
        ap = True 
        if (firstA == 0): 
          firstA = count 
        else: 
          secondA = count 
      count = count + 1
    if (ap == True): 
      confusionD = int((row[1])[(firstA + 1):secondA])
    else: 
      confusionD  = int((row[1])[10])

#engagementD Parsing 
    firstA = 0
    secondA = 0 
    count = 0
    ap = False 
    for char in row[2]:
      if (char == '"'): 
        ap = True 
        if (firstA == 0): 
          firstA = count 
        else: 
          secondA = count 
      count = count + 1
    if (ap == True):
      engagementD = int((row[2])[(firstA + 1):secondA])
    else: 
      engagementD = int((row[2])[11])

#attentionD Parsing 
    firstA = 0
    secondA = 0 
    count = 0
    ap = False
    for char in row[3]:
      if (char == '"'): 
        ap = True 
        if (firstA == 0): 
          firstA = count 
        else: 
          secondA = count 
      count = count + 1
    

    if (ap == True):
      attentionD = int((row[3])[(firstA + 1):secondA])
    else: 
      attentionD = int((row[3])[10])

    time.append(timeD)
    confusion.append(confusionD)
    engagement.append(engagementD)
    attention.append(attentionD)


print(time)
print(confusion)
print(engagement)
print(attention)

def partition(time,low,high): 
    i = ( low-1 )         # index of smaller element 
    pivot = time[high]     # pivot 
  
    for j in range(low , high): 
  
        # If current element is smaller than or 
        # equal to pivot 
        if   time[j] <= pivot: 
          
            # increment index of smaller element 
            i = i+1 
            time[i],time[j] = time[j],time[i] 
            confusion[i], confusion[j] = confusion[j], confusion[i]
            engagement[i], engagement[j] = engagement[j], engagement[i]
            attention[i], attention[j] = attention[j], attention[i]
  
    time[i+1],time[high] = time[high],time[i+1] 
    confusion[i+1], confusion[high] = confusion[high], confusion[i+1]
    engagement[i+1], engagement[high] = engagement[high], engagement[i+1]
    attention[i+1], attention[high] = attention[high], attention[i+1]
    return ( i+1 ) 
 
def quickSort(time,low,high): 
    if low < high: 
  
        # pi is partitioning index, arr[p] is now 
        # at right place 
        pi = partition(time,low,high) 
  
        # Separately sort elements before 
        # partition and after partition 
        quickSort(time, low, pi-1) 
        quickSort(time, pi+1, high) 
  

n = len(time) 
quickSort(time,0,n-1) 
print()
print ("Sorted array is:") 
print(time)
print(confusion)
print(engagement)
print(attention)


timeS = []
timeS.append(time[0])

confusionS = []
confusionS.append(confusion[0])
#confusionS.append(10)

engagementS = []
engagementS.append(engagement[0])
engagementS.append(10)

attentionS = []
attentionS.append(attention[0])
attentionS.append(10)


for n in range(1, len(time) - 1): 
  if (attention[n] != attention[n-1]):
    timeS.append(time[n])
    confusionS.append(confusion[n])
    engagementS.append(engagement[n])
    attentionS.append(attention[n])


time = timeS  
confusion = confusionS 
engagement = engagementS 
attention = attentionS 

print()
print(time)
print(confusion)
print(engagement)
print(attention)


engagementX = []
attentionX = [] 

for l in range(1, len(confusion) + 1): 
  engagementX.append(0)
  attentionX.append(0)

attention = attentionX
engagement = engagementX

print()
print(time)
print(confusion)
print(engagement)
print(attention)

print(len(time))
print(len(confusion))
print(len(engagement))
print(len(attention))

import plotly.graph_objects as go
emotions=['confusion', 'engagement', 'attention']

frames = [] 
count = 1
for count in range(1, len(joy) - 2): 
  frames.append(go.Frame(data=[go.Bar(x=emotions, y=[joy[count], engagement[count], attention[count]])]))
  count = count + 1 

count = len(joy) - 1 
frames.append(go.Frame(data=[go.Bar(x=emotions, y=[joy[count], engagement[count], attention[count]])],
                     layout=go.Layout(title_text="Emotion Tracking")))
  
fig = go.Figure(
    data=[go.Bar(x=emotions, y=[joy[0], engagement[0], attention[0]])],
    layout=go.Layout(
        yaxis=dict(range=[50, 100], autorange=False),
        title="Emotions Tracking",
        updatemenus=[dict(
            type="buttons",
            buttons=[dict(label="Play",
                          method="animate",
                          args=[None])])]
    ),
    frames=frames

)

fig.show()
import plotly.graph_objects as go
emotions=['joy   ', 'engagement   ', 'attention   ']

frames = [] 
count = 1
for count in range(1, len(joy) - 2): 
  frames.append(go.Frame(data=[go.Bar(x=[joy[count], engagement[count], attention[count]], y=emotions, orientation='h')]))
  count = count + 1 

count = len(joy) - 1 
frames.append(go.Frame(data=[go.Bar(x=[joy[count], engagement[count], attention[count]], y=emotions, orientation='h')],
                     layout=go.Layout(title_text="Emotion Tracking")))
  
fig = go.Figure(
    data=[go.Bar(x=[joy[0], engagement[0], attention[0]], y=emotions,  orientation='h')],
    layout=go.Layout(
        xaxis=dict(range=[0, 100], autorange=False),
        title="Emotions Tracking",
        updatemenus=[dict(
            type="buttons",
            buttons=[dict(label="Play",
                          method="animate",
                          args=[None])])]
    ),
    frames=frames

)

fig.show()
import plotly.graph_objects as go
emotions=['confusion   ', 'engagement   ', 'attention   ']

frames = [] 
count = 1
for count in range(1, len(confusion) - 2): 
  frames.append(go.Frame(data=[go.Bar(x=[confusion[count], engagement[count], attention[count]], y=emotions, orientation='h')],
                     layout=go.Layout(title_text="Emotion Tracking")))

count = len(confusion) - 1 
frames.append(go.Frame(data=[go.Bar(x=[confusion[count], engagement[count], attention[count]], y=emotions, orientation='h')],
                     layout=go.Layout(title_text="Emotion Tracking")))
  
fig = go.Figure(
    data=[go.Bar(x=[confusion[0], engagement[0], attention[0]], y=emotions,  orientation='h')],
    layout=go.Layout(
        xaxis=dict(range=[0, 100], autorange=False),
        title="Emotions Tracking",
        updatemenus=[dict(
            type="buttons",
            buttons=[dict(label="Play",
                          method="animate",
                          args=[None])])]
    ),
    frames=frames

)

fig.show()
